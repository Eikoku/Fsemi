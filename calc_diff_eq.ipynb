{
 "cells": [
  {
   "cell_type": "markdown",
   "metadata": {},
   "source": [
    "## 今回の目標:\n",
    "\n",
    "オイラー法やルンゲ・クッタ法を用いて、与えられた微分方程式を満たす関数を数値計算でプロットしてみる。"
   ]
  },
  {
   "cell_type": "markdown",
   "metadata": {},
   "source": [
    "## 動機:\n",
    "\n",
    "微分方程式はあらゆる科学分野や、経済学にまで現れる。それらの微分方程式を数値的に解いてグラフ化できれば、\n",
    "解析的に解けるものについては自分の解の検算になり、解析的に解けないものについてはグラフの振る舞いを知ることができる。"
   ]
  },
  {
   "cell_type": "markdown",
   "metadata": {},
   "source": [
    "## 減衰振動\n",
    "\n",
    "まず、身近な微分方程式の例として、おもりがばねの復元力と空気抵抗を受けて運動する場合を考えよう。\n",
    "\n",
    "このような運動は減衰振動と呼ばれ、\n",
    "おもりの座標xについての微分方程式は\n",
    "\n",
    "#### $$ m\\frac{\\mathrm{d}^2x}{\\mathrm{d}t^2} = -kx - cv $$\n",
    "\n",
    "で表される。これを、\n",
    "\n",
    "#### $$ \\frac{dx}{dt} = v $$\n",
    "\n",
    "#### $$ m\\frac{dv}{dt} = -kx -cv $$\n",
    "\n",
    "という二つの一階微分方程式に分けることで数値計算が行えるようになる。\n",
    "\n",
    "まずはオイラー法で数値計算を行おう。\n",
    "\n",
    "オイラー法やルンゲクッタ法について知らないという場合は、このNotebookの一番下にある「参考資料」の、「科学技術計算講座1,2」を参考にしてほしい。\n"
   ]
  },
  {
   "cell_type": "code",
   "execution_count": null,
   "metadata": {},
   "outputs": [],
   "source": [
    "#Julia\n",
    "#描画に必要なライブラリをインポートする\n",
    "using Pkg\n",
    "using Plots\n",
    "Pkg.add(\"Plots\")\n",
    "Pkg.add(\"GR\")"
   ]
  },
  {
   "cell_type": "code",
   "execution_count": null,
   "metadata": {},
   "outputs": [],
   "source": [
    "#初期条件\n",
    "x = 0.1\n",
    "v = 0.0\n",
    "t = 0.0\n",
    "\n",
    "k = 0.2 #ばね定数\n",
    "c = 0.1 #抵抗 -cv の係数 (ばね‐質量‐ダンパー系というものや、空気抵抗を想定する)\n",
    "m = 1.0 #質量\n",
    "dt = 0.1\n",
    "\n",
    "gt = []\n",
    "gx = []\n",
    "gv = []\n",
    "\n",
    "# 簡略化のために関数を設定する\n",
    "# dx/dt,dv/dt をそれぞれ fx,fv とおく\n",
    "\n",
    "fx(v) = v\n",
    "fv(x,v) = (-k * x - c * v) / m\n",
    "\n",
    "#オイラー法を実行する\n",
    "#a,bをfx,fvなどと命名すると invalid redefinition of constant Main.fx というバグが出ることがある。注意！\n",
    "for i in 1:1000\n",
    "\n",
    "    push!(gt,t)\n",
    "    push!(gx,x)\n",
    "    push!(gv,v)\n",
    "\n",
    "    a = fx(v)\n",
    "    b = fv(x,v)\n",
    "    x = x + dt * a\n",
    "    v = v + dt * b\n",
    "    t = t + dt\n",
    "\n",
    "\n",
    "end\n",
    "\n",
    "#plotの使い方は https://zenn.dev/ohno/articles/3101433fbe9231 を参照\n",
    "px = plot(gt,gx,title=\"Relation between t and x\", label=\"x\", xlabel=\"time\", ylabel=\"coordinate\")\n",
    "pv = plot(gt,gv,title=\"Relation between t and v\", label=\"v\",xlabel=\"time\", ylabel=\"velocity\")\n",
    "plot(px, pv,layout = (2, 1))"
   ]
  },
  {
   "cell_type": "markdown",
   "metadata": {},
   "source": [
    "おもりは振動しつつ、最終的にはつりあいの位置で停止することが予想されるので、それらしいグラフを得ることができた。\n",
    "\n",
    "ここで、このグラフがどれくらい正確なものなのかを考えたい。"
   ]
  },
  {
   "cell_type": "markdown",
   "metadata": {},
   "source": [
    "減衰振動の微分方程式は解析的に解けて、\n",
    "## $ x = a e^{-\\gamma t} \\cos({\\sqrt{\\omega^2-\\gamma^2} t+\\alpha}) $\n",
    "\n",
    "ここで\n",
    "$ a = \\sqrt{\\omega^2 x_0^2/\\omega^2-\\gamma^2}、\\alpha = \\tan^{-1}(-\\gamma/\\sqrt{\\omega^2-\\gamma^2})、\\gamma = c/(2m)、\\omega = \\sqrt{k/m} $\n",
    "\n",
    "という厳密解が存在することが知られている。今　$x_0 = 0.1 $ として、実際にこの厳密解 $ x(t) $ のグラフと、オイラー法で得られたグラフを比較してみよう。"
   ]
  },
  {
   "cell_type": "code",
   "execution_count": null,
   "metadata": {},
   "outputs": [],
   "source": [
    "#厳密解が存在するので、数値計算の結果とそれを比べてみる\n",
    "\n",
    "x0 = 0.1\n",
    "gamma = c/(2m)\n",
    "omega = sqrt(k/m)\n",
    "alph = atan(-gamma/sqrt(omega^2-gamma^2))\n",
    "a = sqrt((omega*x0)^2/(omega^2-gamma^2))\n",
    "exact(t) = a * cos(sqrt(omega^2-gamma^2)*t + alph) * exp(-gamma * t)\n",
    "\n",
    "#pxのラベルを\"euler_calc\"とする\n",
    "pxEuler = plot(gt,gx,title=\"Relation between t and x\", label=\"euler_calc\", xlabel=\"time\", ylabel=\"coordinate\",lw=2)\n",
    "plot!(pxEuler,exact,label=\"exact\")"
   ]
  },
  {
   "cell_type": "markdown",
   "metadata": {},
   "source": [
    "オイラー法は確かに微分方程式を満たす関数をうまく近似できるものの、まだ計算精度が甘いことがわかった。\n",
    "\n",
    "次に、より計算精度が良いと言われるルンゲ・クッタ法で $x(t)$ のグラフを書いてみよう。"
   ]
  },
  {
   "cell_type": "code",
   "execution_count": null,
   "metadata": {},
   "outputs": [],
   "source": [
    "#初期条件\n",
    "x = 0.1\n",
    "v = 0.0\n",
    "t = 0.0\n",
    "gt = []\n",
    "gx = []\n",
    "gv = []\n",
    "\n",
    "#ワンステップずつ計算していく\n",
    "for i in 1:1000\n",
    "\n",
    "    push!(gt,t)\n",
    "    push!(gx,x)\n",
    "    push!(gv,v)\n",
    "    \n",
    "    xp = x\n",
    "    vp = v\n",
    "    kx1 = fx(vp)\n",
    "    kv1 = fv(xp, vp)\n",
    "\n",
    "    xp = x + 0.5 * dt * kx1\n",
    "    vp = v + 0.5 * dt * kv1\n",
    "    kx2 = fx(vp)\n",
    "    kv2 = fv(xp, vp)\n",
    "\n",
    "    xp = x + 0.5 * dt * kx2\n",
    "    vp = v + 0.5 * dt * kv2\n",
    "    kx3 = fx(vp)\n",
    "    kv3 = fv(xp, vp)\n",
    "\n",
    "    xp = x + dt * kx3\n",
    "    vp = v + dt * kv3\n",
    "    kx4 = fx(vp)\n",
    "    kv4 = fv(xp, vp)\n",
    "\n",
    "    x = x + dt * (kx1 + 2.0 * kx2 + 2.0 * kx3 + kx4) / 6.0\n",
    "    v = v + dt * (kv1 + 2.0 * kv2 + 2.0 * kv3 + kv4) / 6.0\n",
    "    t = t + dt\n",
    "\n",
    "end\n",
    "\n",
    "pxRunge = plot(gt,gx,title=\"Relation between t and x\", label=\"runge_calc\", xlabel=\"time\", ylabel=\"coordinate\",lw=2)\n",
    "plot!(pxRunge,exact,label=\"exact\")"
   ]
  },
  {
   "cell_type": "markdown",
   "metadata": {},
   "source": [
    "ルンゲクッタ法は確かに計算精度が良いことが見てとれた。\n",
    "他の微分方程式も、ルンゲクッタ法を用いて数値的に解いてみよう。"
   ]
  },
  {
   "cell_type": "markdown",
   "metadata": {},
   "source": [
    "## ロトカ・ヴォルテラ方程式"
   ]
  },
  {
   "cell_type": "markdown",
   "metadata": {},
   "source": [
    "生物の捕食-被食関係による個体数の変動を表現するシンプルな数理モデルとして、ロトカ・ヴォルテラの方程式というものがある。\n",
    "これは\n",
    "### $$ \\frac{\\mathrm{d}x}{\\mathrm{d}t} = ax - bxy $$\n",
    "### $$ \\frac{\\mathrm{d}y}{\\mathrm{d}t} = cxy - dy $$\n",
    "\n",
    "という連立微分方程式である。\n",
    "\n",
    "ここで、$x$は非捕食者(弱い方)の数、$y$は捕食者(強い方)の数であり、\n",
    "定数$a,b,c,d$については、それぞれ大まかに$a$は被捕食者の出生率、$b$は被捕食率、$c$は捕食者の出生率、$d$は捕食側の死亡率を表す。\n",
    "\n",
    "### 式の説明\n",
    "この式の意味は意外と単純なので、怖気付かないでほしい。\n",
    "まず上の式について説明する。$-bxy$の項がなかったら$x(t)=e^{at}$となる。すなわち、被捕食者の数は指数関数的に増え続ける(と仮定している)。\n",
    "また、捕食者と被食者が出会う場合を考えると、この機会は$x$の数と$y$の数に比例すると考えられるので、$-bxy$で被食者の減少を表せる。\n",
    "\n",
    "次に、下の式について説明する。まず、ここで捕食者$y$は$x$以外に餌を持たないとしている。\n",
    "$cxy$の項が非常に小さいとき、捕食者は少ない餌を奪い合って、自らの個体数が多いほどに急激に減少していく。この減少は指数関数的なものなので、$-dy$と表せる。\n",
    "$cxy$の項については、$-bxy$の逆作用と考えればよい。ここでは餌を食べることに成功すればするほど個体数を増やせるとしている。"
   ]
  },
  {
   "cell_type": "markdown",
   "metadata": {},
   "source": [
    "このように、$x$や$y$の二次以上の項が入った微分方程式を非線形微分方程式と言い、一般に解析的に解くことはできない。この式も解析的に解くことはできないが、数値計算によって$x$や$y$の振る舞いを知ることができる。実際にルンゲクッタ法で、この微分方程式を数値的に解いてみよう。"
   ]
  },
  {
   "cell_type": "code",
   "execution_count": null,
   "metadata": {},
   "outputs": [],
   "source": [
    "#パラメータ、初期値をうまく定めてやる\n",
    "a,b,c,d = 0.3, 0.1, 0.1, 3\n",
    "\n",
    "x = 12\n",
    "y = 5\n",
    "t = 0\n",
    "\n",
    "gx = []\n",
    "gy = []\n",
    "gt = []\n",
    "dt = 0.01\n",
    "\n",
    "#微分方程式の右辺の計算を簡潔に表すため、関数を定義する\n",
    "# =を使った記法により、変数を呼び出す必要がなくなる\n",
    "\n",
    "xp = 0\n",
    "yp = 0\n",
    "fx(x=xp,y=yp) = a*x - b*x*y\n",
    "fy(x=xp,y=yp) = c*x*y - d*y\n",
    "\n",
    "for i in 1:10000\n",
    "\n",
    "    push!(gt,t)\n",
    "    push!(gx,x)\n",
    "    push!(gy,y)\n",
    "    \n",
    "    xp = x\n",
    "    yp = y\n",
    "    kx1 = fx()\n",
    "    ky1 = fy()\n",
    "\n",
    "    xp = x + 0.5 * dt * kx1\n",
    "    yp = v + 0.5 * dt * ky1\n",
    "    kx2 = fx()\n",
    "    ky2 = fy()\n",
    "\n",
    "    xp = x + 0.5 * dt * kx2\n",
    "    yp = v + 0.5 * dt * ky2\n",
    "    kx3 = fx()\n",
    "    ky3 = fy()\n",
    "\n",
    "    xp = x + dt * kx3\n",
    "    yp = v + dt * ky3\n",
    "    kx4 = fx()\n",
    "    ky4 = fy()\n",
    "\n",
    "    x = x + dt * (kx1 + 2.0 * kx2 + 2.0 * kx3 + kx4) / 6.0\n",
    "    y = y + dt * (ky1 + 2.0 * ky2 + 2.0 * ky3 + ky4) / 6.0\n",
    "    t = t + dt\n",
    "\n",
    "end\n",
    "\n",
    "\n",
    "px = plot(gt,gx,label=\"prey\")\n",
    "plot!(px,gt,gy,title=\"Population\", label=\"predator\", xlabel=\"time\", ylabel=\"population\")"
   ]
  },
  {
   "cell_type": "markdown",
   "metadata": {},
   "source": [
    "- 獲物の数が増える\n",
    "- それに遅れて捕食者の数が増え始め、獲物は減る\n",
    "- 捕食者は食べるものがなくなって数を減らし、再び獲物が増え始める\n",
    "\n",
    "というサイクルが起こることが、解析的に微分方程式を解かずとも知ることができた。"
   ]
  },
  {
   "cell_type": "markdown",
   "metadata": {},
   "source": [
    "## まとめ\n",
    "今回はJuliaでオイラー法とルンゲクッタ法を実装し、微分方程式を数値的に解くことができた。"
   ]
  },
  {
   "cell_type": "markdown",
   "metadata": {},
   "source": [
    "## 展望\n",
    "\n",
    "今回は触れなかったが、二階線形微分方程式なども $dx/dt = u$ のように変数変換することで数値計算することができる。これを活かして今後もさまざまな微分方程式を計算してみたい。\n",
    "一方、ルンゲクッタ法は精度がいいものの完璧ではなく、新たな数値計算法も考えられていることには留意する必要がある。\n",
    "また、拡散方程式などの偏微分方程式の数値計算はルンゲクッタ法では行えないため、それらを行う方法についても今後学びたい。\n",
    "\n",
    "調べている途中で知った、今後につながりそうなワードを列挙しておく。\n",
    "\n",
    "- 具体的な微分方程式\n",
    "    - HJB方程式　(最適制御理論の根幹をなす偏微分方程式)\n",
    "    - Lorenz方程式　(カオス的な解を持つ、大気変動に関する非線形常微分方程式)\n",
    "    - ベルヌーイ型・リッカチ型微分方程式\n",
    "    - ベッセル関数\n",
    "    - ロジスティック方程式\n",
    "    - フォン・ベルタランフィの成長曲線\n",
    "\n",
    "- 数学的・数理科学的用語\n",
    "    - 可積分系・非可積分系\n",
    "    - アイソクライン法\n",
    "    - (微分方程式の)解曲線\n",
    "    - (微分方程式の)保存量、保存系\n",
    "    - 構造安定\n",
    "    - 幻影解\n",
    "\n",
    "- 生態学的用語\n",
    "    - マルサスモデル\n",
    "    - アリー効果\n",
    "    - 環境収容力\n",
    "\n",
    "- Jupyter Notebook の記法\n",
    "    - Markdown記法\n",
    "    - $\\rm\\LaTeX$"
   ]
  },
  {
   "cell_type": "markdown",
   "metadata": {},
   "source": [
    "## 参考資料(特に役に立ったサイト):\n",
    "- 科学技術計算講座1,2 https://cattech-lab.com/science-tools/simulation-lecture/\n",
    "- 【python】ロトカ-ヴォルテラ方程式とかいう超絶かっこいい数式でライオンとガゼルの争いを再現してみた https://qiita.com/kj455/items/32fef8f04d461d36a92a\n",
    "- Plots.jl入門 https://zenn.dev/ohno/articles/3101433fbe9231\n",
    "\n"
   ]
  }
 ],
 "metadata": {
  "kernelspec": {
   "display_name": "Julia 1.10.4",
   "language": "julia",
   "name": "julia-1.10"
  },
  "language_info": {
   "file_extension": ".jl",
   "mimetype": "application/julia",
   "name": "julia",
   "version": "1.10.4"
  }
 },
 "nbformat": 4,
 "nbformat_minor": 2
}
